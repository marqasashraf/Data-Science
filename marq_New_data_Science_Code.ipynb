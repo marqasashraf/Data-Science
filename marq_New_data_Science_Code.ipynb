{
 "cells": [
  {
   "cell_type": "code",
   "execution_count": 47,
   "id": "efee9702",
   "metadata": {},
   "outputs": [],
   "source": [
    "import os\n",
    "import glob\n",
    "import numpy as np\n",
    "import zipfile\n",
    "import concurrent.futures\n",
    "import pandas as pd\n",
    "import seaborn as sns\n",
    "import matplotlib.pyplot as plt\n",
    "import warnings\n",
    "warnings.filterwarnings('ignore')"
   ]
  },
  {
   "cell_type": "markdown",
   "id": "208ad839",
   "metadata": {},
   "source": [
    "## This code reads multiple zip files that contain multiple CSV files of sensor data, extracts the required data from them, and combines them into a single pandas DataFrame. The extracted data includes ACC, BVP, EDA, HR, IBI, and TEMP. The extract_data function takes in a list of zip file names, iterates through the files, and for each file, extracts the required data and renames the columns. The extracted data is then joined to create a single DataFrame. The function returns this DataFrame after dropping any rows that contain missing values. The main part of the code uses the glob module to get a list of all the folders that contain the zip files. It then iterates over these folders and extracts data from all the zip files in each folder using the extract_data function. The resulting DataFrames are concatenated into a single DataFrame, and any rows with temporary IBI values are dropped. The resulting DataFrame is returned."
   ]
  },
  {
   "cell_type": "code",
   "execution_count": 6,
   "id": "42507029",
   "metadata": {},
   "outputs": [],
   "source": [
    "import pandas as pd\n",
    "import glob\n",
    "import os\n",
    "import zipfile\n",
    "\n",
    "# Set the path to the Excel file containing survey results\n",
    "survey_results_path = r'SurveyResults.xlsx'\n",
    "\n",
    "# Read the survey results from Excel and process date-time columns\n",
    "survey_data = pd.read_excel(survey_results_path, usecols=['ID', 'Start time', 'End time', 'date', 'Stress level'], dtype={'ID': str})\n",
    "survey_data['Stress level'].replace('na', np.nan, inplace=True)\n",
    "survey_data.dropna(inplace=True)\n",
    "\n",
    "survey_data['Start datetime'] = pd.to_datetime(survey_data['date'].map(str) + ' ' + survey_data['Start time'].map(str))\n",
    "survey_data['End datetime'] = pd.to_datetime(survey_data['date'].map(str) + ' ' + survey_data['End time'].map(str))\n",
    "survey_data.drop(['Start time', 'End time', 'date'], axis=1, inplace=True)\n",
    "\n",
    "# Convert SurveyResults.xlsx to GMT-00:00\n",
    "daylight = pd.to_datetime(datetime(2020, 11, 1, 0, 0))\n",
    "\n",
    "# Split survey data into two parts based on daylight saving time\n",
    "survey_data_part1 = survey_data[survey_data['End datetime'] <= daylight].copy()\n",
    "survey_data_part1['Start datetime'] = survey_data_part1['Start datetime'].apply(lambda x: x + timedelta(hours=5))\n",
    "survey_data_part1['End datetime'] = survey_data_part1['End datetime'].apply(lambda x: x + timedelta(hours=5))\n",
    "\n",
    "survey_data_part2 = survey_data.loc[survey_data['End datetime'] > daylight].copy()\n",
    "survey_data_part2['Start datetime'] = survey_data_part2['Start datetime'].apply(lambda x: x + timedelta(hours=6))\n",
    "survey_data_part2['End datetime'] = survey_data_part2['End datetime'].apply(lambda x: x + timedelta(hours=6))\n",
    "\n",
    "survey_data = pd.concat([survey_data_part1, survey_data_part2], ignore_index=True)\n",
    "survey_data['duration'] = survey_data['End datetime'] - survey_data['Start datetime']\n",
    "\n",
    "# Define a function to calculate duration in minutes\n",
    "def calculate_duration_minutes(duration):\n",
    "    return duration.seconds / 60\n",
    "\n",
    "survey_data['duration_minutes'] = survey_data['duration'].apply(calculate_duration_minutes)\n",
    "\n",
    "survey_data.reset_index(drop=True, inplace=True)\n",
    "\n",
    "def extract_data(files):\n",
    "    joined_list = []\n",
    "    for file in files:\n",
    "        with zipfile.ZipFile(file) as zf:\n",
    "            zf.extractall()\n",
    "            sensor_coords = pd.read_csv('ACC.csv', index_col=None, header=0)\n",
    "            BVP = pd.read_csv('BVP.csv', index_col=None, header=0)\n",
    "            eda = pd.read_csv('EDA.csv', index_col=None, header=0)\n",
    "            heart_rates = pd.read_csv('HR.csv', index_col=None, header=0)\n",
    "            temp = pd.read_csv('TEMP.csv', index_col=None, header=0)\n",
    "\n",
    "            sensor_coords = sensor_coords.rename(columns={sensor_coords.columns[0]: 'X_AXIS', sensor_coords.columns[1]: 'Y_AXIS', sensor_coords.columns[2]: 'Z_AXIS'})\n",
    "            BVP = BVP.rename(columns={BVP.columns[0]: 'BVP'})\n",
    "            eda = eda.rename(columns={eda.columns[0]: 'EDA'})\n",
    "            heart_rates = heart_rates.rename(columns={heart_rates.columns[0]: 'HR'})          \n",
    "            temp = temp.rename(columns={temp.columns[0]: 'TEMP'})\n",
    "            \n",
    "            #Creating DateTime attribute for each dataset\n",
    "            def process_df(df):\n",
    "                start_timestamp = df.iloc[0,0]\n",
    "                sample_rate = df.iloc[1,0]\n",
    "                new_df = pd.DataFrame(df.iloc[2:].values, columns=df.columns)\n",
    "                new_df['datetime'] = [(start_timestamp + i/sample_rate) for i in range(len(new_df))]\n",
    "                return new_df\n",
    "            \n",
    "            sensor_coords = process_df(sensor_coords)\n",
    "            BVP = process_df(BVP)\n",
    "            eda = process_df(eda)\n",
    "            heart_rates = process_df(heart_rates)\n",
    "            temp = process_df(temp)\n",
    "            \n",
    "            #Merging the Data #taken from original code because this was the best feasible method\n",
    "            data = sensor_coords.merge(eda, on='datetime', how='outer')\n",
    "            data = data.merge(BVP, on='datetime', how='outer')\n",
    "            data = data.merge(heart_rates, on='datetime', how='outer')\n",
    "            data = data.merge(temp, on='datetime', how='outer')\n",
    "            \n",
    "            #Fill Null values with fowrard and backward fill\n",
    "            data.fillna(method='ffill', inplace=True)\n",
    "            data.fillna(method='bfill', inplace=True)\n",
    "\n",
    "            joined_list.append(data)\n",
    "\n",
    "    df = pd.concat(joined_list).reset_index(drop=True)\n",
    "    return df\n",
    "\n",
    "folders = glob.glob(os.path.join(\"Stress_dataset/*\"))\n",
    "df = pd.concat([extract_data(glob.glob(os.path.join(folder, '*.zip'))) for folder in folders]).reset_index(drop=True)\n",
    "\n",
    "#Getting Label\n",
    "df['datetime'] = pd.to_datetime(data['datetime'])\n",
    "df['id'] = df['id'].astype(str)\n",
    "\n",
    "def label_data(row_datetime):\n",
    "    max_datetime = survey_data['End datetime'].max()\n",
    "    if row_datetime >= max_datetime:\n",
    "        return 1\n",
    "    else:\n",
    "        return 0\n",
    "\n",
    "df['Label'] = df['datetime'].apply(label_data)\n",
    "\n",
    "df.to_csv('processed.csv')"
   ]
  },
  {
   "cell_type": "code",
   "execution_count": 72,
   "id": "ff58c9a8",
   "metadata": {},
   "outputs": [],
   "source": [
    "# Removing Unnamed column from the dataset\n",
    "df = pd.read_csv('processed.csv')\n",
    "df = df.drop('Unnamed: 0', axis=1)"
   ]
  },
  {
   "cell_type": "code",
   "execution_count": 73,
   "id": "51b6c061",
   "metadata": {},
   "outputs": [
    {
     "data": {
      "text/html": [
       "<div>\n",
       "<style scoped>\n",
       "    .dataframe tbody tr th:only-of-type {\n",
       "        vertical-align: middle;\n",
       "    }\n",
       "\n",
       "    .dataframe tbody tr th {\n",
       "        vertical-align: top;\n",
       "    }\n",
       "\n",
       "    .dataframe thead th {\n",
       "        text-align: right;\n",
       "    }\n",
       "</style>\n",
       "<table border=\"1\" class=\"dataframe\">\n",
       "  <thead>\n",
       "    <tr style=\"text-align: right;\">\n",
       "      <th></th>\n",
       "      <th>X_AXIS</th>\n",
       "      <th>Y_AXIS</th>\n",
       "      <th>Z_AXIS</th>\n",
       "      <th>id</th>\n",
       "      <th>datetime</th>\n",
       "      <th>EDA</th>\n",
       "      <th>BVP</th>\n",
       "      <th>TEMP</th>\n",
       "      <th>HR</th>\n",
       "      <th>Label</th>\n",
       "    </tr>\n",
       "  </thead>\n",
       "  <tbody>\n",
       "    <tr>\n",
       "      <th>0</th>\n",
       "      <td>-27.0</td>\n",
       "      <td>4.0</td>\n",
       "      <td>56.0</td>\n",
       "      <td>15</td>\n",
       "      <td>1970-01-01 00:00:00.000000032</td>\n",
       "      <td>0.185782</td>\n",
       "      <td>-0.00</td>\n",
       "      <td>31.11</td>\n",
       "      <td>95.98</td>\n",
       "      <td>0</td>\n",
       "    </tr>\n",
       "    <tr>\n",
       "      <th>1</th>\n",
       "      <td>-26.0</td>\n",
       "      <td>4.0</td>\n",
       "      <td>57.0</td>\n",
       "      <td>15</td>\n",
       "      <td>1970-01-01 00:00:00.000000031</td>\n",
       "      <td>0.185782</td>\n",
       "      <td>-0.00</td>\n",
       "      <td>31.11</td>\n",
       "      <td>95.98</td>\n",
       "      <td>0</td>\n",
       "    </tr>\n",
       "    <tr>\n",
       "      <th>2</th>\n",
       "      <td>-32.0</td>\n",
       "      <td>1.0</td>\n",
       "      <td>59.0</td>\n",
       "      <td>15</td>\n",
       "      <td>1970-01-01 00:00:00.000000031</td>\n",
       "      <td>0.185782</td>\n",
       "      <td>-0.00</td>\n",
       "      <td>31.11</td>\n",
       "      <td>95.98</td>\n",
       "      <td>0</td>\n",
       "    </tr>\n",
       "    <tr>\n",
       "      <th>3</th>\n",
       "      <td>-37.0</td>\n",
       "      <td>0.0</td>\n",
       "      <td>57.0</td>\n",
       "      <td>15</td>\n",
       "      <td>1970-01-01 00:00:00.000000031</td>\n",
       "      <td>0.185782</td>\n",
       "      <td>-0.00</td>\n",
       "      <td>31.11</td>\n",
       "      <td>95.98</td>\n",
       "      <td>0</td>\n",
       "    </tr>\n",
       "    <tr>\n",
       "      <th>4</th>\n",
       "      <td>-37.0</td>\n",
       "      <td>-1.0</td>\n",
       "      <td>54.0</td>\n",
       "      <td>15</td>\n",
       "      <td>1970-01-01 00:00:00.000000031</td>\n",
       "      <td>0.185782</td>\n",
       "      <td>-0.00</td>\n",
       "      <td>31.11</td>\n",
       "      <td>95.98</td>\n",
       "      <td>0</td>\n",
       "    </tr>\n",
       "    <tr>\n",
       "      <th>...</th>\n",
       "      <td>...</td>\n",
       "      <td>...</td>\n",
       "      <td>...</td>\n",
       "      <td>...</td>\n",
       "      <td>...</td>\n",
       "      <td>...</td>\n",
       "      <td>...</td>\n",
       "      <td>...</td>\n",
       "      <td>...</td>\n",
       "      <td>...</td>\n",
       "    </tr>\n",
       "    <tr>\n",
       "      <th>27564630</th>\n",
       "      <td>-10.0</td>\n",
       "      <td>-59.0</td>\n",
       "      <td>22.0</td>\n",
       "      <td>15</td>\n",
       "      <td>1970-01-01 00:00:00.000000094</td>\n",
       "      <td>0.278333</td>\n",
       "      <td>-23.27</td>\n",
       "      <td>32.16</td>\n",
       "      <td>93.75</td>\n",
       "      <td>0</td>\n",
       "    </tr>\n",
       "    <tr>\n",
       "      <th>27564631</th>\n",
       "      <td>-10.0</td>\n",
       "      <td>-59.0</td>\n",
       "      <td>22.0</td>\n",
       "      <td>15</td>\n",
       "      <td>1970-01-01 00:00:00.000000094</td>\n",
       "      <td>0.278333</td>\n",
       "      <td>-23.27</td>\n",
       "      <td>32.16</td>\n",
       "      <td>94.52</td>\n",
       "      <td>0</td>\n",
       "    </tr>\n",
       "    <tr>\n",
       "      <th>27564632</th>\n",
       "      <td>-10.0</td>\n",
       "      <td>-59.0</td>\n",
       "      <td>22.0</td>\n",
       "      <td>15</td>\n",
       "      <td>1970-01-01 00:00:00.000000094</td>\n",
       "      <td>0.278333</td>\n",
       "      <td>-23.27</td>\n",
       "      <td>32.16</td>\n",
       "      <td>95.30</td>\n",
       "      <td>0</td>\n",
       "    </tr>\n",
       "    <tr>\n",
       "      <th>27564633</th>\n",
       "      <td>-10.0</td>\n",
       "      <td>-59.0</td>\n",
       "      <td>22.0</td>\n",
       "      <td>15</td>\n",
       "      <td>1970-01-01 00:00:00.000000094</td>\n",
       "      <td>0.278333</td>\n",
       "      <td>-23.27</td>\n",
       "      <td>32.16</td>\n",
       "      <td>96.02</td>\n",
       "      <td>0</td>\n",
       "    </tr>\n",
       "    <tr>\n",
       "      <th>27564634</th>\n",
       "      <td>-10.0</td>\n",
       "      <td>-59.0</td>\n",
       "      <td>22.0</td>\n",
       "      <td>15</td>\n",
       "      <td>1970-01-01 00:00:00.000000094</td>\n",
       "      <td>0.278333</td>\n",
       "      <td>-23.27</td>\n",
       "      <td>32.16</td>\n",
       "      <td>96.72</td>\n",
       "      <td>0</td>\n",
       "    </tr>\n",
       "  </tbody>\n",
       "</table>\n",
       "<p>27564635 rows × 10 columns</p>\n",
       "</div>"
      ],
      "text/plain": [
       "          X_AXIS  Y_AXIS  Z_AXIS  id                      datetime       EDA  \\\n",
       "0          -27.0     4.0    56.0  15 1970-01-01 00:00:00.000000032  0.185782   \n",
       "1          -26.0     4.0    57.0  15 1970-01-01 00:00:00.000000031  0.185782   \n",
       "2          -32.0     1.0    59.0  15 1970-01-01 00:00:00.000000031  0.185782   \n",
       "3          -37.0     0.0    57.0  15 1970-01-01 00:00:00.000000031  0.185782   \n",
       "4          -37.0    -1.0    54.0  15 1970-01-01 00:00:00.000000031  0.185782   \n",
       "...          ...     ...     ...  ..                           ...       ...   \n",
       "27564630   -10.0   -59.0    22.0  15 1970-01-01 00:00:00.000000094  0.278333   \n",
       "27564631   -10.0   -59.0    22.0  15 1970-01-01 00:00:00.000000094  0.278333   \n",
       "27564632   -10.0   -59.0    22.0  15 1970-01-01 00:00:00.000000094  0.278333   \n",
       "27564633   -10.0   -59.0    22.0  15 1970-01-01 00:00:00.000000094  0.278333   \n",
       "27564634   -10.0   -59.0    22.0  15 1970-01-01 00:00:00.000000094  0.278333   \n",
       "\n",
       "            BVP   TEMP     HR  Label  \n",
       "0         -0.00  31.11  95.98      0  \n",
       "1         -0.00  31.11  95.98      0  \n",
       "2         -0.00  31.11  95.98      0  \n",
       "3         -0.00  31.11  95.98      0  \n",
       "4         -0.00  31.11  95.98      0  \n",
       "...         ...    ...    ...    ...  \n",
       "27564630 -23.27  32.16  93.75      0  \n",
       "27564631 -23.27  32.16  94.52      0  \n",
       "27564632 -23.27  32.16  95.30      0  \n",
       "27564633 -23.27  32.16  96.02      0  \n",
       "27564634 -23.27  32.16  96.72      0  \n",
       "\n",
       "[27564635 rows x 10 columns]"
      ]
     },
     "execution_count": 73,
     "metadata": {},
     "output_type": "execute_result"
    }
   ],
   "source": [
    "df"
   ]
  },
  {
   "cell_type": "code",
   "execution_count": 22,
   "id": "49bbc7a4",
   "metadata": {},
   "outputs": [
    {
     "name": "stdout",
     "output_type": "stream",
     "text": [
      "<class 'pandas.core.frame.DataFrame'>\n",
      "RangeIndex: 27564635 entries, 0 to 27564634\n",
      "Data columns (total 10 columns):\n",
      " #   Column    Dtype         \n",
      "---  ------    -----         \n",
      " 0   X_AXIS    float64       \n",
      " 1   Y_AXIS    float64       \n",
      " 2   Z_AXIS    float64       \n",
      " 3   id        int64         \n",
      " 4   datetime  datetime64[ns]\n",
      " 5   EDA       float64       \n",
      " 6   BVP       float64       \n",
      " 7   TEMP      float64       \n",
      " 8   HR        float64       \n",
      " 9   Label     int64         \n",
      "dtypes: datetime64[ns](1), float64(7), int64(2)\n",
      "memory usage: 2.1 GB\n"
     ]
    }
   ],
   "source": [
    "df.info()"
   ]
  },
  {
   "cell_type": "code",
   "execution_count": 23,
   "id": "5e84ad47",
   "metadata": {},
   "outputs": [
    {
     "data": {
      "text/html": [
       "<div>\n",
       "<style scoped>\n",
       "    .dataframe tbody tr th:only-of-type {\n",
       "        vertical-align: middle;\n",
       "    }\n",
       "\n",
       "    .dataframe tbody tr th {\n",
       "        vertical-align: top;\n",
       "    }\n",
       "\n",
       "    .dataframe thead th {\n",
       "        text-align: right;\n",
       "    }\n",
       "</style>\n",
       "<table border=\"1\" class=\"dataframe\">\n",
       "  <thead>\n",
       "    <tr style=\"text-align: right;\">\n",
       "      <th></th>\n",
       "      <th>X_AXIS</th>\n",
       "      <th>Y_AXIS</th>\n",
       "      <th>Z_AXIS</th>\n",
       "      <th>id</th>\n",
       "      <th>EDA</th>\n",
       "      <th>BVP</th>\n",
       "      <th>TEMP</th>\n",
       "      <th>HR</th>\n",
       "      <th>Label</th>\n",
       "    </tr>\n",
       "  </thead>\n",
       "  <tbody>\n",
       "    <tr>\n",
       "      <th>count</th>\n",
       "      <td>2.756464e+07</td>\n",
       "      <td>2.756464e+07</td>\n",
       "      <td>2.756464e+07</td>\n",
       "      <td>27564635.0</td>\n",
       "      <td>2.756464e+07</td>\n",
       "      <td>2.756464e+07</td>\n",
       "      <td>2.756464e+07</td>\n",
       "      <td>2.756464e+07</td>\n",
       "      <td>2.756464e+07</td>\n",
       "    </tr>\n",
       "    <tr>\n",
       "      <th>mean</th>\n",
       "      <td>-3.449328e+01</td>\n",
       "      <td>-1.842825e+01</td>\n",
       "      <td>8.741106e+00</td>\n",
       "      <td>15.0</td>\n",
       "      <td>1.360729e+00</td>\n",
       "      <td>-6.125526e-01</td>\n",
       "      <td>3.159282e+01</td>\n",
       "      <td>6.871064e+01</td>\n",
       "      <td>6.632067e-02</td>\n",
       "    </tr>\n",
       "    <tr>\n",
       "      <th>std</th>\n",
       "      <td>2.984943e+01</td>\n",
       "      <td>4.050797e+01</td>\n",
       "      <td>3.001696e+01</td>\n",
       "      <td>0.0</td>\n",
       "      <td>2.909468e+00</td>\n",
       "      <td>1.228461e+02</td>\n",
       "      <td>1.663991e+00</td>\n",
       "      <td>1.329196e+01</td>\n",
       "      <td>2.488418e-01</td>\n",
       "    </tr>\n",
       "    <tr>\n",
       "      <th>min</th>\n",
       "      <td>-1.280000e+02</td>\n",
       "      <td>-1.280000e+02</td>\n",
       "      <td>-1.280000e+02</td>\n",
       "      <td>15.0</td>\n",
       "      <td>0.000000e+00</td>\n",
       "      <td>-3.304690e+03</td>\n",
       "      <td>2.403000e+01</td>\n",
       "      <td>5.050000e+01</td>\n",
       "      <td>0.000000e+00</td>\n",
       "    </tr>\n",
       "    <tr>\n",
       "      <th>25%</th>\n",
       "      <td>-5.400000e+01</td>\n",
       "      <td>-5.100000e+01</td>\n",
       "      <td>-1.800000e+01</td>\n",
       "      <td>15.0</td>\n",
       "      <td>1.258520e-01</td>\n",
       "      <td>-1.272000e+01</td>\n",
       "      <td>3.045000e+01</td>\n",
       "      <td>5.800000e+01</td>\n",
       "      <td>0.000000e+00</td>\n",
       "    </tr>\n",
       "    <tr>\n",
       "      <th>50%</th>\n",
       "      <td>-4.200000e+01</td>\n",
       "      <td>-8.000000e+00</td>\n",
       "      <td>7.000000e+00</td>\n",
       "      <td>15.0</td>\n",
       "      <td>3.026790e-01</td>\n",
       "      <td>0.000000e+00</td>\n",
       "      <td>3.131000e+01</td>\n",
       "      <td>6.600000e+01</td>\n",
       "      <td>0.000000e+00</td>\n",
       "    </tr>\n",
       "    <tr>\n",
       "      <th>75%</th>\n",
       "      <td>-2.700000e+01</td>\n",
       "      <td>1.400000e+01</td>\n",
       "      <td>2.500000e+01</td>\n",
       "      <td>15.0</td>\n",
       "      <td>6.907620e-01</td>\n",
       "      <td>1.682000e+01</td>\n",
       "      <td>3.309000e+01</td>\n",
       "      <td>7.900000e+01</td>\n",
       "      <td>0.000000e+00</td>\n",
       "    </tr>\n",
       "    <tr>\n",
       "      <th>max</th>\n",
       "      <td>1.270000e+02</td>\n",
       "      <td>1.270000e+02</td>\n",
       "      <td>1.270000e+02</td>\n",
       "      <td>15.0</td>\n",
       "      <td>4.357153e+01</td>\n",
       "      <td>3.678620e+03</td>\n",
       "      <td>3.637000e+01</td>\n",
       "      <td>1.586500e+02</td>\n",
       "      <td>1.000000e+00</td>\n",
       "    </tr>\n",
       "  </tbody>\n",
       "</table>\n",
       "</div>"
      ],
      "text/plain": [
       "             X_AXIS        Y_AXIS        Z_AXIS          id           EDA  \\\n",
       "count  2.756464e+07  2.756464e+07  2.756464e+07  27564635.0  2.756464e+07   \n",
       "mean  -3.449328e+01 -1.842825e+01  8.741106e+00        15.0  1.360729e+00   \n",
       "std    2.984943e+01  4.050797e+01  3.001696e+01         0.0  2.909468e+00   \n",
       "min   -1.280000e+02 -1.280000e+02 -1.280000e+02        15.0  0.000000e+00   \n",
       "25%   -5.400000e+01 -5.100000e+01 -1.800000e+01        15.0  1.258520e-01   \n",
       "50%   -4.200000e+01 -8.000000e+00  7.000000e+00        15.0  3.026790e-01   \n",
       "75%   -2.700000e+01  1.400000e+01  2.500000e+01        15.0  6.907620e-01   \n",
       "max    1.270000e+02  1.270000e+02  1.270000e+02        15.0  4.357153e+01   \n",
       "\n",
       "                BVP          TEMP            HR         Label  \n",
       "count  2.756464e+07  2.756464e+07  2.756464e+07  2.756464e+07  \n",
       "mean  -6.125526e-01  3.159282e+01  6.871064e+01  6.632067e-02  \n",
       "std    1.228461e+02  1.663991e+00  1.329196e+01  2.488418e-01  \n",
       "min   -3.304690e+03  2.403000e+01  5.050000e+01  0.000000e+00  \n",
       "25%   -1.272000e+01  3.045000e+01  5.800000e+01  0.000000e+00  \n",
       "50%    0.000000e+00  3.131000e+01  6.600000e+01  0.000000e+00  \n",
       "75%    1.682000e+01  3.309000e+01  7.900000e+01  0.000000e+00  \n",
       "max    3.678620e+03  3.637000e+01  1.586500e+02  1.000000e+00  "
      ]
     },
     "execution_count": 23,
     "metadata": {},
     "output_type": "execute_result"
    }
   ],
   "source": [
    "# Statistics of the data\n",
    "df.describe()"
   ]
  },
  {
   "cell_type": "code",
   "execution_count": 25,
   "id": "5372aab4",
   "metadata": {},
   "outputs": [
    {
     "data": {
      "image/png": "[encoded data removed]",
      "text/plain": [
       "<Figure size 640x480 with 1 Axes>"
      ]
     },
     "metadata": {},
     "output_type": "display_data"
    }
   ],
   "source": [
    "#Check imbalance of data\n",
    "sns.countplot(x='Label', data=df)\n",
    "plt.title(\"Count of Labels\")\n",
    "plt.xlabel(\"0's and 1's\")\n",
    "plt.ylabel(\"Count\")\n",
    "plt.show()"
   ]
  },
  {
   "cell_type": "code",
   "execution_count": 26,
   "id": "917e69b9",
   "metadata": {},
   "outputs": [
    {
     "data": {
      "text/plain": [
       "0    25736530\n",
       "1     1828105\n",
       "Name: Label, dtype: int64"
      ]
     },
     "execution_count": 26,
     "metadata": {},
     "output_type": "execute_result"
    }
   ],
   "source": [
    "#Imbalanced data count \n",
    "df['Label'].value_counts()"
   ]
  },
  {
   "cell_type": "markdown",
   "id": "49b5e25f",
   "metadata": {},
   "source": [
    "# Resampling"
   ]
  },
  {
   "cell_type": "markdown",
   "id": "7d96e0fb",
   "metadata": {},
   "source": [
    "## This code is performing upsampling on a Pandas DataFrame df which has a column named 'target'. First, it is creating two new DataFrames: df_Z which contains all rows from df where the value in the 'target' column is 0, and df_O which contains all rows where the value in the 'target' column is 1. Then, it is upsampling the df_Z DataFrame to a size of 0's. . Finally, it is concatenating the upsampled df_Z DataFrame with the df_O DataFrame using the pd.concat() method with ignore_index=True. This creates a new DataFrame with the same columns as df, where the rows are from df_Z and the remaining rows are from df_O. The resulting DataFrame is returned and may be used for further analysis or modeling. The purpose of this downsampling is likely to address class imbalance in the target variable, where there are many more rows with a target value of 0 than 1. By upsampling the minority class, the resulting DataFrame has a more balanced distribution of target values, which can improve model performance for certain types of models."
   ]
  },
  {
   "cell_type": "code",
   "execution_count": 27,
   "id": "a72fc7a3",
   "metadata": {},
   "outputs": [],
   "source": [
    "#upsampling 1's to balance the data to match 0's shape\n",
    "from imblearn.over_sampling import SMOTE\n",
    "from sklearn.model_selection import train_test_split\n",
    "\n",
    "sm = SMOTE()  \n",
    "\n",
    "X = df.drop({'Label','datetime'},axis = 1)\n",
    "Y = df['Label']   \n",
    "X_train, X_test, y_train, y_test = train_test_split(X, Y, test_size=0.25, random_state=10)\n",
    "\n",
    "dependent, label = sm.fit_resample(X_train, y_train.ravel())\n",
    "\n",
    "df = dependent.copy()\n",
    "df['Label'] = label"
   ]
  },
  {
   "cell_type": "code",
   "execution_count": 29,
   "id": "ec34c71f",
   "metadata": {},
   "outputs": [
    {
     "data": {
      "image/png": "[encoded data removed]",
      "text/plain": [
       "<Figure size 640x480 with 1 Axes>"
      ]
     },
     "metadata": {},
     "output_type": "display_data"
    }
   ],
   "source": [
    "#Balanced data label coutn visual representation\n",
    "sns.countplot(x='Label', data=df)\n",
    "plt.title(\"Count of Labels\")\n",
    "plt.xlabel(\"0's and 1's\")\n",
    "plt.ylabel(\"Count\")\n",
    "plt.show()"
   ]
  },
  {
   "cell_type": "code",
   "execution_count": 30,
   "id": "9da7f9e6",
   "metadata": {},
   "outputs": [
    {
     "data": {
      "text/plain": [
       "(38604284, 9)"
      ]
     },
     "execution_count": 30,
     "metadata": {},
     "output_type": "execute_result"
    }
   ],
   "source": [
    "df.shape"
   ]
  },
  {
   "cell_type": "code",
   "execution_count": 31,
   "id": "c3d7f77f",
   "metadata": {},
   "outputs": [
    {
     "data": {
      "text/plain": [
       "0    19302142\n",
       "1    19302142\n",
       "Name: Label, dtype: int64"
      ]
     },
     "execution_count": 31,
     "metadata": {},
     "output_type": "execute_result"
    }
   ],
   "source": [
    "#Balanced data count\n",
    "df['Label'].value_counts()"
   ]
  },
  {
   "cell_type": "code",
   "execution_count": 32,
   "id": "233c57f2",
   "metadata": {},
   "outputs": [
    {
     "data": {
      "text/html": [
       "<div>\n",
       "<style scoped>\n",
       "    .dataframe tbody tr th:only-of-type {\n",
       "        vertical-align: middle;\n",
       "    }\n",
       "\n",
       "    .dataframe tbody tr th {\n",
       "        vertical-align: top;\n",
       "    }\n",
       "\n",
       "    .dataframe thead th {\n",
       "        text-align: right;\n",
       "    }\n",
       "</style>\n",
       "<table border=\"1\" class=\"dataframe\">\n",
       "  <thead>\n",
       "    <tr style=\"text-align: right;\">\n",
       "      <th></th>\n",
       "      <th>X_AXIS</th>\n",
       "      <th>Y_AXIS</th>\n",
       "      <th>Z_AXIS</th>\n",
       "      <th>id</th>\n",
       "      <th>EDA</th>\n",
       "      <th>BVP</th>\n",
       "      <th>TEMP</th>\n",
       "      <th>HR</th>\n",
       "      <th>Label</th>\n",
       "    </tr>\n",
       "  </thead>\n",
       "  <tbody>\n",
       "    <tr>\n",
       "      <th>X_AXIS</th>\n",
       "      <td>1.000000</td>\n",
       "      <td>-0.143553</td>\n",
       "      <td>0.240115</td>\n",
       "      <td>NaN</td>\n",
       "      <td>-0.113858</td>\n",
       "      <td>0.077614</td>\n",
       "      <td>-0.094069</td>\n",
       "      <td>0.123719</td>\n",
       "      <td>0.045489</td>\n",
       "    </tr>\n",
       "    <tr>\n",
       "      <th>Y_AXIS</th>\n",
       "      <td>-0.143553</td>\n",
       "      <td>1.000000</td>\n",
       "      <td>0.157212</td>\n",
       "      <td>NaN</td>\n",
       "      <td>0.114220</td>\n",
       "      <td>-0.121767</td>\n",
       "      <td>0.057626</td>\n",
       "      <td>-0.194138</td>\n",
       "      <td>-0.089502</td>\n",
       "    </tr>\n",
       "    <tr>\n",
       "      <th>Z_AXIS</th>\n",
       "      <td>0.240115</td>\n",
       "      <td>0.157212</td>\n",
       "      <td>1.000000</td>\n",
       "      <td>NaN</td>\n",
       "      <td>-0.173379</td>\n",
       "      <td>-0.035375</td>\n",
       "      <td>-0.068698</td>\n",
       "      <td>0.032145</td>\n",
       "      <td>-0.045839</td>\n",
       "    </tr>\n",
       "    <tr>\n",
       "      <th>id</th>\n",
       "      <td>NaN</td>\n",
       "      <td>NaN</td>\n",
       "      <td>NaN</td>\n",
       "      <td>NaN</td>\n",
       "      <td>NaN</td>\n",
       "      <td>NaN</td>\n",
       "      <td>NaN</td>\n",
       "      <td>NaN</td>\n",
       "      <td>NaN</td>\n",
       "    </tr>\n",
       "    <tr>\n",
       "      <th>EDA</th>\n",
       "      <td>-0.113858</td>\n",
       "      <td>0.114220</td>\n",
       "      <td>-0.173379</td>\n",
       "      <td>NaN</td>\n",
       "      <td>1.000000</td>\n",
       "      <td>-0.041505</td>\n",
       "      <td>0.310030</td>\n",
       "      <td>0.006128</td>\n",
       "      <td>0.103205</td>\n",
       "    </tr>\n",
       "    <tr>\n",
       "      <th>BVP</th>\n",
       "      <td>0.077614</td>\n",
       "      <td>-0.121767</td>\n",
       "      <td>-0.035375</td>\n",
       "      <td>NaN</td>\n",
       "      <td>-0.041505</td>\n",
       "      <td>1.000000</td>\n",
       "      <td>-0.021062</td>\n",
       "      <td>-0.033716</td>\n",
       "      <td>-0.013732</td>\n",
       "    </tr>\n",
       "    <tr>\n",
       "      <th>TEMP</th>\n",
       "      <td>-0.094069</td>\n",
       "      <td>0.057626</td>\n",
       "      <td>-0.068698</td>\n",
       "      <td>NaN</td>\n",
       "      <td>0.310030</td>\n",
       "      <td>-0.021062</td>\n",
       "      <td>1.000000</td>\n",
       "      <td>0.013083</td>\n",
       "      <td>0.109424</td>\n",
       "    </tr>\n",
       "    <tr>\n",
       "      <th>HR</th>\n",
       "      <td>0.123719</td>\n",
       "      <td>-0.194138</td>\n",
       "      <td>0.032145</td>\n",
       "      <td>NaN</td>\n",
       "      <td>0.006128</td>\n",
       "      <td>-0.033716</td>\n",
       "      <td>0.013083</td>\n",
       "      <td>1.000000</td>\n",
       "      <td>0.214428</td>\n",
       "    </tr>\n",
       "    <tr>\n",
       "      <th>Label</th>\n",
       "      <td>0.045489</td>\n",
       "      <td>-0.089502</td>\n",
       "      <td>-0.045839</td>\n",
       "      <td>NaN</td>\n",
       "      <td>0.103205</td>\n",
       "      <td>-0.013732</td>\n",
       "      <td>0.109424</td>\n",
       "      <td>0.214428</td>\n",
       "      <td>1.000000</td>\n",
       "    </tr>\n",
       "  </tbody>\n",
       "</table>\n",
       "</div>"
      ],
      "text/plain": [
       "          X_AXIS    Y_AXIS    Z_AXIS  id       EDA       BVP      TEMP  \\\n",
       "X_AXIS  1.000000 -0.143553  0.240115 NaN -0.113858  0.077614 -0.094069   \n",
       "Y_AXIS -0.143553  1.000000  0.157212 NaN  0.114220 -0.121767  0.057626   \n",
       "Z_AXIS  0.240115  0.157212  1.000000 NaN -0.173379 -0.035375 -0.068698   \n",
       "id           NaN       NaN       NaN NaN       NaN       NaN       NaN   \n",
       "EDA    -0.113858  0.114220 -0.173379 NaN  1.000000 -0.041505  0.310030   \n",
       "BVP     0.077614 -0.121767 -0.035375 NaN -0.041505  1.000000 -0.021062   \n",
       "TEMP   -0.094069  0.057626 -0.068698 NaN  0.310030 -0.021062  1.000000   \n",
       "HR      0.123719 -0.194138  0.032145 NaN  0.006128 -0.033716  0.013083   \n",
       "Label   0.045489 -0.089502 -0.045839 NaN  0.103205 -0.013732  0.109424   \n",
       "\n",
       "              HR     Label  \n",
       "X_AXIS  0.123719  0.045489  \n",
       "Y_AXIS -0.194138 -0.089502  \n",
       "Z_AXIS  0.032145 -0.045839  \n",
       "id           NaN       NaN  \n",
       "EDA     0.006128  0.103205  \n",
       "BVP    -0.033716 -0.013732  \n",
       "TEMP    0.013083  0.109424  \n",
       "HR      1.000000  0.214428  \n",
       "Label   0.214428  1.000000  "
      ]
     },
     "execution_count": 32,
     "metadata": {},
     "output_type": "execute_result"
    }
   ],
   "source": [
    "#Correlation matrix\n",
    "df.corr()"
   ]
  },
  {
   "cell_type": "code",
   "execution_count": 33,
   "id": "5e03afbc",
   "metadata": {},
   "outputs": [
    {
     "data": {
      "text/html": [
       "<div>\n",
       "<style scoped>\n",
       "    .dataframe tbody tr th:only-of-type {\n",
       "        vertical-align: middle;\n",
       "    }\n",
       "\n",
       "    .dataframe tbody tr th {\n",
       "        vertical-align: top;\n",
       "    }\n",
       "\n",
       "    .dataframe thead th {\n",
       "        text-align: right;\n",
       "    }\n",
       "</style>\n",
       "<table border=\"1\" class=\"dataframe\">\n",
       "  <thead>\n",
       "    <tr style=\"text-align: right;\">\n",
       "      <th></th>\n",
       "      <th>X_AXIS</th>\n",
       "      <th>Y_AXIS</th>\n",
       "      <th>Z_AXIS</th>\n",
       "      <th>id</th>\n",
       "      <th>EDA</th>\n",
       "      <th>BVP</th>\n",
       "      <th>TEMP</th>\n",
       "      <th>HR</th>\n",
       "      <th>Label</th>\n",
       "    </tr>\n",
       "  </thead>\n",
       "  <tbody>\n",
       "    <tr>\n",
       "      <th>X_AXIS</th>\n",
       "      <td>1.000000</td>\n",
       "      <td>-0.143553</td>\n",
       "      <td>0.240115</td>\n",
       "      <td>NaN</td>\n",
       "      <td>-0.113858</td>\n",
       "      <td>0.077614</td>\n",
       "      <td>-0.094069</td>\n",
       "      <td>0.123719</td>\n",
       "      <td>0.045489</td>\n",
       "    </tr>\n",
       "    <tr>\n",
       "      <th>Y_AXIS</th>\n",
       "      <td>-0.143553</td>\n",
       "      <td>1.000000</td>\n",
       "      <td>0.157212</td>\n",
       "      <td>NaN</td>\n",
       "      <td>0.114220</td>\n",
       "      <td>-0.121767</td>\n",
       "      <td>0.057626</td>\n",
       "      <td>-0.194138</td>\n",
       "      <td>-0.089502</td>\n",
       "    </tr>\n",
       "    <tr>\n",
       "      <th>Z_AXIS</th>\n",
       "      <td>0.240115</td>\n",
       "      <td>0.157212</td>\n",
       "      <td>1.000000</td>\n",
       "      <td>NaN</td>\n",
       "      <td>-0.173379</td>\n",
       "      <td>-0.035375</td>\n",
       "      <td>-0.068698</td>\n",
       "      <td>0.032145</td>\n",
       "      <td>-0.045839</td>\n",
       "    </tr>\n",
       "    <tr>\n",
       "      <th>id</th>\n",
       "      <td>NaN</td>\n",
       "      <td>NaN</td>\n",
       "      <td>NaN</td>\n",
       "      <td>NaN</td>\n",
       "      <td>NaN</td>\n",
       "      <td>NaN</td>\n",
       "      <td>NaN</td>\n",
       "      <td>NaN</td>\n",
       "      <td>NaN</td>\n",
       "    </tr>\n",
       "    <tr>\n",
       "      <th>EDA</th>\n",
       "      <td>-0.113858</td>\n",
       "      <td>0.114220</td>\n",
       "      <td>-0.173379</td>\n",
       "      <td>NaN</td>\n",
       "      <td>1.000000</td>\n",
       "      <td>-0.041505</td>\n",
       "      <td>0.310030</td>\n",
       "      <td>0.006128</td>\n",
       "      <td>0.103205</td>\n",
       "    </tr>\n",
       "    <tr>\n",
       "      <th>BVP</th>\n",
       "      <td>0.077614</td>\n",
       "      <td>-0.121767</td>\n",
       "      <td>-0.035375</td>\n",
       "      <td>NaN</td>\n",
       "      <td>-0.041505</td>\n",
       "      <td>1.000000</td>\n",
       "      <td>-0.021062</td>\n",
       "      <td>-0.033716</td>\n",
       "      <td>-0.013732</td>\n",
       "    </tr>\n",
       "    <tr>\n",
       "      <th>TEMP</th>\n",
       "      <td>-0.094069</td>\n",
       "      <td>0.057626</td>\n",
       "      <td>-0.068698</td>\n",
       "      <td>NaN</td>\n",
       "      <td>0.310030</td>\n",
       "      <td>-0.021062</td>\n",
       "      <td>1.000000</td>\n",
       "      <td>0.013083</td>\n",
       "      <td>0.109424</td>\n",
       "    </tr>\n",
       "    <tr>\n",
       "      <th>HR</th>\n",
       "      <td>0.123719</td>\n",
       "      <td>-0.194138</td>\n",
       "      <td>0.032145</td>\n",
       "      <td>NaN</td>\n",
       "      <td>0.006128</td>\n",
       "      <td>-0.033716</td>\n",
       "      <td>0.013083</td>\n",
       "      <td>1.000000</td>\n",
       "      <td>0.214428</td>\n",
       "    </tr>\n",
       "    <tr>\n",
       "      <th>Label</th>\n",
       "      <td>0.045489</td>\n",
       "      <td>-0.089502</td>\n",
       "      <td>-0.045839</td>\n",
       "      <td>NaN</td>\n",
       "      <td>0.103205</td>\n",
       "      <td>-0.013732</td>\n",
       "      <td>0.109424</td>\n",
       "      <td>0.214428</td>\n",
       "      <td>1.000000</td>\n",
       "    </tr>\n",
       "  </tbody>\n",
       "</table>\n",
       "</div>"
      ],
      "text/plain": [
       "          X_AXIS    Y_AXIS    Z_AXIS  id       EDA       BVP      TEMP  \\\n",
       "X_AXIS  1.000000 -0.143553  0.240115 NaN -0.113858  0.077614 -0.094069   \n",
       "Y_AXIS -0.143553  1.000000  0.157212 NaN  0.114220 -0.121767  0.057626   \n",
       "Z_AXIS  0.240115  0.157212  1.000000 NaN -0.173379 -0.035375 -0.068698   \n",
       "id           NaN       NaN       NaN NaN       NaN       NaN       NaN   \n",
       "EDA    -0.113858  0.114220 -0.173379 NaN  1.000000 -0.041505  0.310030   \n",
       "BVP     0.077614 -0.121767 -0.035375 NaN -0.041505  1.000000 -0.021062   \n",
       "TEMP   -0.094069  0.057626 -0.068698 NaN  0.310030 -0.021062  1.000000   \n",
       "HR      0.123719 -0.194138  0.032145 NaN  0.006128 -0.033716  0.013083   \n",
       "Label   0.045489 -0.089502 -0.045839 NaN  0.103205 -0.013732  0.109424   \n",
       "\n",
       "              HR     Label  \n",
       "X_AXIS  0.123719  0.045489  \n",
       "Y_AXIS -0.194138 -0.089502  \n",
       "Z_AXIS  0.032145 -0.045839  \n",
       "id           NaN       NaN  \n",
       "EDA     0.006128  0.103205  \n",
       "BVP    -0.033716 -0.013732  \n",
       "TEMP    0.013083  0.109424  \n",
       "HR      1.000000  0.214428  \n",
       "Label   0.214428  1.000000  "
      ]
     },
     "execution_count": 33,
     "metadata": {},
     "output_type": "execute_result"
    }
   ],
   "source": [
    "df.corr().transpose()"
   ]
  },
  {
   "cell_type": "code",
   "execution_count": 34,
   "id": "97e79577",
   "metadata": {},
   "outputs": [
    {
     "data": {
      "image/png": "[encoded data removed]",
      "text/plain": [
       "<Figure size 640x480 with 2 Axes>"
      ]
     },
     "metadata": {},
     "output_type": "display_data"
    }
   ],
   "source": [
    "#Correlation heatmap visulisation\n",
    "sns.heatmap(df.corr().transpose(), cmap='plasma')\n",
    "plt.show()"
   ]
  },
  {
   "cell_type": "code",
   "execution_count": 35,
   "id": "53d4a849",
   "metadata": {},
   "outputs": [
    {
     "data": {
      "text/plain": [
       "array([[<AxesSubplot:title={'center':'X_AXIS'}>,\n",
       "        <AxesSubplot:title={'center':'Y_AXIS'}>,\n",
       "        <AxesSubplot:title={'center':'Z_AXIS'}>],\n",
       "       [<AxesSubplot:title={'center':'id'}>,\n",
       "        <AxesSubplot:title={'center':'EDA'}>,\n",
       "        <AxesSubplot:title={'center':'BVP'}>],\n",
       "       [<AxesSubplot:title={'center':'TEMP'}>,\n",
       "        <AxesSubplot:title={'center':'HR'}>,\n",
       "        <AxesSubplot:title={'center':'Label'}>]], dtype=object)"
      ]
     },
     "execution_count": 35,
     "metadata": {},
     "output_type": "execute_result"
    },
    {
     "data": {
      "image/png": "[encoded data removed]",
      "text/plain": [
       "<Figure size 640x480 with 9 Axes>"
      ]
     },
     "metadata": {},
     "output_type": "display_data"
    }
   ],
   "source": [
    "#histogram to check if the data is normally distributed or not\n",
    "df.hist()"
   ]
  },
  {
   "cell_type": "markdown",
   "id": "fb2bc3a6",
   "metadata": {},
   "source": [
    "# Time series alanysis"
   ]
  },
  {
   "cell_type": "code",
   "execution_count": 68,
   "id": "61a83cd4",
   "metadata": {},
   "outputs": [
    {
     "data": {
      "text/html": [
       "<div>\n",
       "<style scoped>\n",
       "    .dataframe tbody tr th:only-of-type {\n",
       "        vertical-align: middle;\n",
       "    }\n",
       "\n",
       "    .dataframe tbody tr th {\n",
       "        vertical-align: top;\n",
       "    }\n",
       "\n",
       "    .dataframe thead th {\n",
       "        text-align: right;\n",
       "    }\n",
       "</style>\n",
       "<table border=\"1\" class=\"dataframe\">\n",
       "  <thead>\n",
       "    <tr style=\"text-align: right;\">\n",
       "      <th></th>\n",
       "      <th>Unnamed: 0</th>\n",
       "      <th>accelerometer_X</th>\n",
       "      <th>accelerometer_Y</th>\n",
       "      <th>accelerometer_Z</th>\n",
       "      <th>id</th>\n",
       "      <th>datetime</th>\n",
       "      <th>EDA</th>\n",
       "      <th>BVP</th>\n",
       "      <th>temp</th>\n",
       "      <th>heart_rate</th>\n",
       "      <th>Label</th>\n",
       "    </tr>\n",
       "  </thead>\n",
       "  <tbody>\n",
       "    <tr>\n",
       "      <th>0</th>\n",
       "      <td>0</td>\n",
       "      <td>-27.0</td>\n",
       "      <td>4.0</td>\n",
       "      <td>56.0</td>\n",
       "      <td>15</td>\n",
       "      <td>1970-01-01 00:00:00.000000032</td>\n",
       "      <td>0.185782</td>\n",
       "      <td>-0.00</td>\n",
       "      <td>31.11</td>\n",
       "      <td>95.98</td>\n",
       "      <td>0</td>\n",
       "    </tr>\n",
       "    <tr>\n",
       "      <th>1</th>\n",
       "      <td>1</td>\n",
       "      <td>-26.0</td>\n",
       "      <td>4.0</td>\n",
       "      <td>57.0</td>\n",
       "      <td>15</td>\n",
       "      <td>1970-01-01 00:00:00.000000031</td>\n",
       "      <td>0.185782</td>\n",
       "      <td>-0.00</td>\n",
       "      <td>31.11</td>\n",
       "      <td>95.98</td>\n",
       "      <td>0</td>\n",
       "    </tr>\n",
       "    <tr>\n",
       "      <th>2</th>\n",
       "      <td>2</td>\n",
       "      <td>-32.0</td>\n",
       "      <td>1.0</td>\n",
       "      <td>59.0</td>\n",
       "      <td>15</td>\n",
       "      <td>1970-01-01 00:00:00.000000031</td>\n",
       "      <td>0.185782</td>\n",
       "      <td>-0.00</td>\n",
       "      <td>31.11</td>\n",
       "      <td>95.98</td>\n",
       "      <td>0</td>\n",
       "    </tr>\n",
       "    <tr>\n",
       "      <th>3</th>\n",
       "      <td>3</td>\n",
       "      <td>-37.0</td>\n",
       "      <td>0.0</td>\n",
       "      <td>57.0</td>\n",
       "      <td>15</td>\n",
       "      <td>1970-01-01 00:00:00.000000031</td>\n",
       "      <td>0.185782</td>\n",
       "      <td>-0.00</td>\n",
       "      <td>31.11</td>\n",
       "      <td>95.98</td>\n",
       "      <td>0</td>\n",
       "    </tr>\n",
       "    <tr>\n",
       "      <th>4</th>\n",
       "      <td>4</td>\n",
       "      <td>-37.0</td>\n",
       "      <td>-1.0</td>\n",
       "      <td>54.0</td>\n",
       "      <td>15</td>\n",
       "      <td>1970-01-01 00:00:00.000000031</td>\n",
       "      <td>0.185782</td>\n",
       "      <td>-0.00</td>\n",
       "      <td>31.11</td>\n",
       "      <td>95.98</td>\n",
       "      <td>0</td>\n",
       "    </tr>\n",
       "    <tr>\n",
       "      <th>...</th>\n",
       "      <td>...</td>\n",
       "      <td>...</td>\n",
       "      <td>...</td>\n",
       "      <td>...</td>\n",
       "      <td>...</td>\n",
       "      <td>...</td>\n",
       "      <td>...</td>\n",
       "      <td>...</td>\n",
       "      <td>...</td>\n",
       "      <td>...</td>\n",
       "      <td>...</td>\n",
       "    </tr>\n",
       "    <tr>\n",
       "      <th>27564630</th>\n",
       "      <td>819642</td>\n",
       "      <td>-10.0</td>\n",
       "      <td>-59.0</td>\n",
       "      <td>22.0</td>\n",
       "      <td>15</td>\n",
       "      <td>1970-01-01 00:00:00.000000094</td>\n",
       "      <td>0.278333</td>\n",
       "      <td>-23.27</td>\n",
       "      <td>32.16</td>\n",
       "      <td>93.75</td>\n",
       "      <td>0</td>\n",
       "    </tr>\n",
       "    <tr>\n",
       "      <th>27564631</th>\n",
       "      <td>819643</td>\n",
       "      <td>-10.0</td>\n",
       "      <td>-59.0</td>\n",
       "      <td>22.0</td>\n",
       "      <td>15</td>\n",
       "      <td>1970-01-01 00:00:00.000000094</td>\n",
       "      <td>0.278333</td>\n",
       "      <td>-23.27</td>\n",
       "      <td>32.16</td>\n",
       "      <td>94.52</td>\n",
       "      <td>0</td>\n",
       "    </tr>\n",
       "    <tr>\n",
       "      <th>27564632</th>\n",
       "      <td>819644</td>\n",
       "      <td>-10.0</td>\n",
       "      <td>-59.0</td>\n",
       "      <td>22.0</td>\n",
       "      <td>15</td>\n",
       "      <td>1970-01-01 00:00:00.000000094</td>\n",
       "      <td>0.278333</td>\n",
       "      <td>-23.27</td>\n",
       "      <td>32.16</td>\n",
       "      <td>95.30</td>\n",
       "      <td>0</td>\n",
       "    </tr>\n",
       "    <tr>\n",
       "      <th>27564633</th>\n",
       "      <td>819645</td>\n",
       "      <td>-10.0</td>\n",
       "      <td>-59.0</td>\n",
       "      <td>22.0</td>\n",
       "      <td>15</td>\n",
       "      <td>1970-01-01 00:00:00.000000094</td>\n",
       "      <td>0.278333</td>\n",
       "      <td>-23.27</td>\n",
       "      <td>32.16</td>\n",
       "      <td>96.02</td>\n",
       "      <td>0</td>\n",
       "    </tr>\n",
       "    <tr>\n",
       "      <th>27564634</th>\n",
       "      <td>819646</td>\n",
       "      <td>-10.0</td>\n",
       "      <td>-59.0</td>\n",
       "      <td>22.0</td>\n",
       "      <td>15</td>\n",
       "      <td>1970-01-01 00:00:00.000000094</td>\n",
       "      <td>0.278333</td>\n",
       "      <td>-23.27</td>\n",
       "      <td>32.16</td>\n",
       "      <td>96.72</td>\n",
       "      <td>0</td>\n",
       "    </tr>\n",
       "  </tbody>\n",
       "</table>\n",
       "<p>27564635 rows × 11 columns</p>\n",
       "</div>"
      ],
      "text/plain": [
       "          Unnamed: 0  accelerometer_X  accelerometer_Y  accelerometer_Z  id  \\\n",
       "0                  0            -27.0              4.0             56.0  15   \n",
       "1                  1            -26.0              4.0             57.0  15   \n",
       "2                  2            -32.0              1.0             59.0  15   \n",
       "3                  3            -37.0              0.0             57.0  15   \n",
       "4                  4            -37.0             -1.0             54.0  15   \n",
       "...              ...              ...              ...              ...  ..   \n",
       "27564630      819642            -10.0            -59.0             22.0  15   \n",
       "27564631      819643            -10.0            -59.0             22.0  15   \n",
       "27564632      819644            -10.0            -59.0             22.0  15   \n",
       "27564633      819645            -10.0            -59.0             22.0  15   \n",
       "27564634      819646            -10.0            -59.0             22.0  15   \n",
       "\n",
       "                              datetime       EDA    BVP   temp  heart_rate  \\\n",
       "0        1970-01-01 00:00:00.000000032  0.185782  -0.00  31.11       95.98   \n",
       "1        1970-01-01 00:00:00.000000031  0.185782  -0.00  31.11       95.98   \n",
       "2        1970-01-01 00:00:00.000000031  0.185782  -0.00  31.11       95.98   \n",
       "3        1970-01-01 00:00:00.000000031  0.185782  -0.00  31.11       95.98   \n",
       "4        1970-01-01 00:00:00.000000031  0.185782  -0.00  31.11       95.98   \n",
       "...                                ...       ...    ...    ...         ...   \n",
       "27564630 1970-01-01 00:00:00.000000094  0.278333 -23.27  32.16       93.75   \n",
       "27564631 1970-01-01 00:00:00.000000094  0.278333 -23.27  32.16       94.52   \n",
       "27564632 1970-01-01 00:00:00.000000094  0.278333 -23.27  32.16       95.30   \n",
       "27564633 1970-01-01 00:00:00.000000094  0.278333 -23.27  32.16       96.02   \n",
       "27564634 1970-01-01 00:00:00.000000094  0.278333 -23.27  32.16       96.72   \n",
       "\n",
       "          Label  \n",
       "0             0  \n",
       "1             0  \n",
       "2             0  \n",
       "3             0  \n",
       "4             0  \n",
       "...         ...  \n",
       "27564630      0  \n",
       "27564631      0  \n",
       "27564632      0  \n",
       "27564633      0  \n",
       "27564634      0  \n",
       "\n",
       "[27564635 rows x 11 columns]"
      ]
     },
     "execution_count": 68,
     "metadata": {},
     "output_type": "execute_result"
    }
   ],
   "source": [
    "df"
   ]
  },
  {
   "cell_type": "code",
   "execution_count": 75,
   "id": "3dd86e4a",
   "metadata": {},
   "outputs": [
    {
     "name": "stdout",
     "output_type": "stream",
     "text": [
      "[<matplotlib.lines.Line2D object at 0x0000027E064F32B0>]\n"
     ]
    },
    {
     "data": {
      "image/png": "[encoded data removed]",
      "text/plain": [
       "<Figure size 1200x600 with 1 Axes>"
      ]
     },
     "metadata": {},
     "output_type": "display_data"
    }
   ],
   "source": [
    "plt.figure(figsize=(12, 6))\n",
    "print(plt.plot(df.datetime,df.X_AXIS))"
   ]
  },
  {
   "cell_type": "code",
   "execution_count": 76,
   "id": "ead2547c",
   "metadata": {},
   "outputs": [
    {
     "name": "stdout",
     "output_type": "stream",
     "text": [
      "[<matplotlib.lines.Line2D object at 0x0000027E068FED00>]\n"
     ]
    },
    {
     "data": {
      "image/png": "[encoded data removed]",
      "text/plain": [
       "<Figure size 1200x600 with 1 Axes>"
      ]
     },
     "metadata": {},
     "output_type": "display_data"
    }
   ],
   "source": [
    "plt.figure(figsize=(12, 6))\n",
    "print(plt.plot(df.datetime,df.Y_AXIS))"
   ]
  },
  {
   "cell_type": "code",
   "execution_count": 77,
   "id": "d2927fd9",
   "metadata": {},
   "outputs": [
    {
     "name": "stdout",
     "output_type": "stream",
     "text": [
      "[<matplotlib.lines.Line2D object at 0x0000027E069A6D30>]\n"
     ]
    },
    {
     "data": {
      "image/png": "[encoded data removed]",
      "text/plain": [
       "<Figure size 1200x600 with 1 Axes>"
      ]
     },
     "metadata": {},
     "output_type": "display_data"
    }
   ],
   "source": [
    "plt.figure(figsize=(12, 6))\n",
    "print(plt.plot(df.datetime,df.Z_AXIS))"
   ]
  },
  {
   "cell_type": "code",
   "execution_count": 37,
   "id": "98492100",
   "metadata": {},
   "outputs": [
    {
     "name": "stdout",
     "output_type": "stream",
     "text": [
      "<class 'pandas.core.frame.DataFrame'>\n",
      "RangeIndex: 38604284 entries, 0 to 38604283\n",
      "Data columns (total 9 columns):\n",
      " #   Column  Dtype  \n",
      "---  ------  -----  \n",
      " 0   X_AXIS  float64\n",
      " 1   Y_AXIS  float64\n",
      " 2   Z_AXIS  float64\n",
      " 3   id      int64  \n",
      " 4   EDA     float64\n",
      " 5   BVP     float64\n",
      " 6   TEMP    float64\n",
      " 7   HR      float64\n",
      " 8   Label   int64  \n",
      "dtypes: float64(7), int64(2)\n",
      "memory usage: 2.6 GB\n"
     ]
    }
   ],
   "source": [
    "df.info()"
   ]
  },
  {
   "cell_type": "markdown",
   "id": "445d7330",
   "metadata": {},
   "source": [
    "# Train-Test Split"
   ]
  },
  {
   "cell_type": "code",
   "execution_count": 41,
   "id": "ccb00b28",
   "metadata": {},
   "outputs": [
    {
     "name": "stdout",
     "output_type": "stream",
     "text": [
      "(28953213, 7) (28953213,) (9651071, 7) (9651071,)\n"
     ]
    }
   ],
   "source": [
    "#75% training and 25% testing\n",
    "training = df.iloc[:int(df.shape[0] * 0.75)]\n",
    "testing = df.iloc[int(df.shape[0] * 0.75):]\n",
    "\n",
    "X_train = training.drop({'Label','id'}, axis=1)\n",
    "y_train = training['Label']\n",
    "X_test = testing.drop({'Label','id'}, axis=1)\n",
    "y_test = testing['Label']\n",
    "\n",
    "# Output the shapes of the split data\n",
    "print(X_train.shape, y_train.shape, X_test.shape, y_test.shape)"
   ]
  },
  {
   "cell_type": "code",
   "execution_count": null,
   "id": "98f61b95",
   "metadata": {},
   "outputs": [],
   "source": []
  },
  {
   "cell_type": "markdown",
   "id": "986c1262",
   "metadata": {},
   "source": [
    "# Standard-Scaler to scale the data into 0-1 range"
   ]
  },
  {
   "cell_type": "code",
   "execution_count": 42,
   "id": "010c6897",
   "metadata": {},
   "outputs": [],
   "source": [
    "from sklearn.preprocessing import StandardScaler\n",
    "\n",
    "scaler = StandardScaler()\n",
    "\n",
    "X_train = scaler.fit_transform(X_train)\n",
    "\n",
    "X_test = scaler.transform(X_test)"
   ]
  },
  {
   "cell_type": "code",
   "execution_count": 44,
   "id": "6aa6d1da",
   "metadata": {},
   "outputs": [
    {
     "data": {
      "text/plain": [
       "array([[ 2.43068062, -1.26183575, -0.43882165, ...,  0.75946443,\n",
       "        -1.23419584,  0.80242144],\n",
       "       [ 0.7827312 , -0.943987  ,  0.47088691, ..., -0.29783408,\n",
       "        -0.93464971,  0.91022986],\n",
       "       [ 0.05763345, -1.53078469, -0.87682948, ..., -1.75052194,\n",
       "        -0.71897649, -0.41940737],\n",
       "       ...,\n",
       "       [ 0.2224284 , -0.60168834,  0.47088691, ...,  0.26705705,\n",
       "         0.23957114,  0.92101071],\n",
       "       [ 3.32057331, -1.09068642,  0.16765072, ...,  0.53374902,\n",
       "         1.3658646 ,  1.05397443],\n",
       "       [-0.40379238,  1.40320378, -0.97790821, ...,  0.14447172,\n",
       "         1.8691021 ,  0.95191579]])"
      ]
     },
     "execution_count": 44,
     "metadata": {},
     "output_type": "execute_result"
    }
   ],
   "source": [
    "X_train"
   ]
  },
  {
   "cell_type": "code",
   "execution_count": 45,
   "id": "7b1bd86b",
   "metadata": {},
   "outputs": [
    {
     "data": {
      "text/plain": [
       "array([[-7.42024996e-02, -1.70193402e+00,  2.01343631e-01, ...,\n",
       "         6.19145548e-01,  1.36586460e+00, -8.86577213e-01],\n",
       "       [-9.31136200e-01, -4.79438823e-01, -8.13826958e-04, ...,\n",
       "         1.24170093e-02,  9.34518168e-01, -1.28187477e+00],\n",
       "       [-6.34505304e-01,  6.20806852e-01,  2.35036540e-01, ...,\n",
       "        -3.64603211e+00,  4.07316972e-01,  9.51197065e-01],\n",
       "       ...,\n",
       "       [ 2.43068062e+00, -1.26183575e+00, -4.38821652e-01, ...,\n",
       "         1.22950415e-01,  1.27000984e+00,  8.23271084e-03],\n",
       "       [ 5.76334543e-02, -1.53078469e+00, -8.76829477e-01, ...,\n",
       "         1.24170093e-02, -7.18976490e-01, -4.19407373e-01],\n",
       "       [ 7.82731201e-01, -9.43986997e-01,  4.70886908e-01, ...,\n",
       "         1.24170093e-02, -9.34649707e-01,  9.10229863e-01]])"
      ]
     },
     "execution_count": 45,
     "metadata": {},
     "output_type": "execute_result"
    }
   ],
   "source": [
    "X_test"
   ]
  },
  {
   "cell_type": "markdown",
   "id": "fe319852",
   "metadata": {},
   "source": [
    "## This code is performing several steps to create and train an LSTM (Long Short-Term Memory) model for binary classification. First, it imports the StandardScaler class from the sklearn.preprocessing module and uses it to normalize the input data in a pandas DataFrame called \"df\". This step scales the data so that each feature has a mean of 0 and a standard deviation of 1, making it easier for the model to learn from. Then, it splits the data into training and testing sets using the train_test_split function from the sklearn.model_selection module. The X variable is assigned the features from the DataFrame, except for the last column, which contains the target variable. The y variable is assigned the target variable. Next, the data is converted to arrays using the numpy module. The training and testing arrays are then reshaped into the input format required for an LSTM model, which expects a 3D input shape of (samples, timesteps, features). The LSTM layer is added to the Sequential model, along with a Dense output layer with a sigmoid activation function. Finally, the model is compiled with binary cross-entropy loss, the Adam optimizer, and accuracy as the evaluation metric. The model is trained using the fit method, with the training data, validation data, and other hyperparameters such as the number of epochs and batch size specified. After training, the model is ready to make predictions on new data."
   ]
  },
  {
   "cell_type": "markdown",
   "id": "58350aa0",
   "metadata": {},
   "source": [
    "# Logistic Regression"
   ]
  },
  {
   "cell_type": "code",
   "execution_count": 54,
   "id": "bdb8d587",
   "metadata": {},
   "outputs": [],
   "source": [
    "from sklearn.metrics import classification_report\n",
    "from sklearn.linear_model import LogisticRegression"
   ]
  },
  {
   "cell_type": "code",
   "execution_count": 56,
   "id": "f5ba7814",
   "metadata": {},
   "outputs": [],
   "source": [
    "clf = LogisticRegression(random_state=0).fit(X_train,y_train)\n",
    "pred = clf.predict(X_test)"
   ]
  },
  {
   "cell_type": "code",
   "execution_count": 62,
   "id": "ff0e7e05",
   "metadata": {},
   "outputs": [
    {
     "name": "stdout",
     "output_type": "stream",
     "text": [
      "               precision    recall  f1-score   support\n",
      "                                                      \n",
      "           0        0.66      0.70      0.68   4729024\n",
      "           1        0.70      0.66      0.68   4922047\n",
      "                                                      \n",
      "    accuracy                            0.68   9651071\n",
      "   macro avg        0.68      0.68      0.68   9651071\n",
      "weighted avg        0.68      0.68      0.68   9651071\n"
     ]
    }
   ],
   "source": [
    "print(classification_report(y_test, pred))"
   ]
  },
  {
   "cell_type": "markdown",
   "id": "7a94ccdf",
   "metadata": {},
   "source": [
    "# Random Forest"
   ]
  },
  {
   "cell_type": "code",
   "execution_count": 57,
   "id": "d6961777",
   "metadata": {},
   "outputs": [],
   "source": [
    "from sklearn.ensemble import RandomForestClassifier\n",
    "\n",
    "clf = RandomForestClassifier(max_depth=2, random_state=0)\n",
    "clf.fit(X_train,y_train)"
   ]
  },
  {
   "cell_type": "code",
   "execution_count": 58,
   "id": "5215f48b",
   "metadata": {},
   "outputs": [],
   "source": [
    "clf_pred = RF.predict(X_test)"
   ]
  },
  {
   "cell_type": "code",
   "execution_count": 63,
   "id": "8a8dde09",
   "metadata": {},
   "outputs": [
    {
     "name": "stdout",
     "output_type": "stream",
     "text": [
      "               precision    recall  f1-score   support\n",
      "                                                      \n",
      "           0        0.88      0.87      0.91   4729024\n",
      "           1        0.87      0.88      0.91   4922047\n",
      "                                                      \n",
      "    accuracy                            0.91   9651071\n",
      "   macro avg        0.91      0.91      0.91   9651071\n",
      "weighted avg        0.91      0.91      0.91   9651071\n"
     ]
    }
   ],
   "source": [
    "print(classification_report(y_test, clf_pred))"
   ]
  },
  {
   "cell_type": "markdown",
   "id": "dafe7a1e",
   "metadata": {},
   "source": [
    "# LSTM"
   ]
  },
  {
   "cell_type": "code",
   "execution_count": 51,
   "id": "7022c285",
   "metadata": {},
   "outputs": [
    {
     "name": "stdout",
     "output_type": "stream",
     "text": [
      "452394/452394 [==============================] - 648s 1ms/step - loss: 0.0705 - accuracy: 0.9764 - val_loss: 0.0373 - val_accuracy: 0.9971\n"
     ]
    },
    {
     "data": {
      "text/plain": [
       "<keras.src.callbacks.History at 0x27e0bbee940>"
      ]
     },
     "execution_count": 51,
     "metadata": {},
     "output_type": "execute_result"
    }
   ],
   "source": [
    "X_train = X_train\n",
    "X_test = X_test\n",
    "y_train = np.array(y_train)\n",
    "y_test = np.array(y_test)\n",
    "\n",
    "# Reshape the data for LSTM input\n",
    "X_train = np.reshape(X_train, (X_train.shape[0], 1, X_train.shape[1]))\n",
    "X_test = np.reshape(X_test, (X_test.shape[0], 1, X_test.shape[1]))\n",
    "\n",
    "# Define and train the LSTM model\n",
    "from keras.models import Sequential\n",
    "from keras.layers import LSTM, Dense\n",
    "\n",
    "model = Sequential()\n",
    "model.add(LSTM(50, input_shape=(X_train.shape[1], X_train.shape[2])))\n",
    "model.add(Dense(1, activation='sigmoid'))\n",
    "model.compile(loss='binary_crossentropy', optimizer='adam', metrics=['accuracy'])\n",
    "model.fit(X_train, y_train, epochs=1, batch_size=64, validation_data=(X_test, y_test))\n"
   ]
  },
  {
   "cell_type": "code",
   "execution_count": 53,
   "id": "675b0ade",
   "metadata": {},
   "outputs": [
    {
     "name": "stdout",
     "output_type": "stream",
     "text": [
      "301596/301596 [==============================] - 179s 592us/step\n",
      "Accuracy score: 0.9970903747366484\n"
     ]
    }
   ],
   "source": [
    "from sklearn.metrics import accuracy_score\n",
    "# evaluate the model on the testing data\n",
    "y_pred_prob = model.predict(X_test)\n",
    "y_pred = (y_pred_prob > 0.5).astype(int)\n",
    "accuracy = accuracy_score(y_test, y_pred)\n",
    "print(f\"Accuracy score: {accuracy}\")"
   ]
  }
 ],
 "metadata": {
  "kernelspec": {
   "display_name": "Python 3 (ipykernel)",
   "language": "python",
   "name": "python3"
  },
  "language_info": {
   "codemirror_mode": {
    "name": "ipython",
    "version": 3
   },
   "file_extension": ".py",
   "mimetype": "text/x-python",
   "name": "python",
   "nbconvert_exporter": "python",
   "pygments_lexer": "ipython3",
   "version": "3.9.13"
  }
 },
 "nbformat": 4,
 "nbformat_minor": 5
}
